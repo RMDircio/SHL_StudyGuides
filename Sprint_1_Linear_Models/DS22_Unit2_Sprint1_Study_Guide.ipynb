{
  "nbformat": 4,
  "nbformat_minor": 0,
  "metadata": {
    "colab": {
      "name": "DS22_Unit2_Sprint1_Study Guide.ipynb",
      "provenance": [],
      "collapsed_sections": [
        "Wcm4CoQy6W5w",
        "Od3ezcFznck1",
        "cRtAwLqO6lez",
        "Y5jLQniVOh6e",
        "c4AhSLgLOixH",
        "wrvMv0I94vyO"
      ],
      "include_colab_link": true
    },
    "kernelspec": {
      "name": "python3",
      "display_name": "Python 3"
    }
  },
  "cells": [
    {
      "cell_type": "markdown",
      "metadata": {
        "id": "view-in-github",
        "colab_type": "text"
      },
      "source": [
        "<a href=\"https://colab.research.google.com/github/RMDircio/SHL_StudyGuides/blob/main/Sprint_1_Linear_Models/DS22_Unit2_Sprint1_Study_Guide.ipynb\" target=\"_parent\"><img src=\"https://colab.research.google.com/assets/colab-badge.svg\" alt=\"Open In Colab\"/></a>"
      ]
    },
    {
      "cell_type": "markdown",
      "metadata": {
        "id": "Wcm4CoQy6W5w"
      },
      "source": [
        "# Use this as a study guide to fill in gaps in your knowlege about Linear Models. You will not have to define words in the Sprint Challenge. \n",
        "\n",
        "After you can do all the steps below, then look over the word banks and answer accordingly. Hope this helps :D\n",
        "\n",
        "1. Can I import a CSV file into a DataFrame?\n",
        "1. Can I create a **scatter plot**?\n",
        "1. Can I split a DataFrame into a **target vector** and **feature matrix**?\n",
        "1. Can I split a dataset into a **training set** and a **test set**?\n",
        "1. Can I establish the baseline **mean absolute error** for a **regression** problem?\n",
        "1. Can I combine **transformers** with a **predictor** using a **pipeline**?\n",
        "1. Can I build a **linear regresion** model and a **ridge regression** model?\n",
        "1. Can I evaluate a model using common metrics like mean absolute error, **root mean squared error**, and **$R^2$**?\n",
        "1. If given a feature matrix, can I use my model to create a list of predictions?\n",
        "1. Can I create a **horizontal bar chart** with the **coefficients** from a linear model?"
      ]
    },
    {
      "cell_type": "markdown",
      "metadata": {
        "id": "Od3ezcFznck1"
      },
      "source": [
        "# Regression 1"
      ]
    },
    {
      "cell_type": "markdown",
      "metadata": {
        "id": "n-wHakYQg00j"
      },
      "source": [
        " Words to Know from Regression 1 Lecture/Assignment:\n",
        "<br>_Make sure to cite your sources for each word_\n",
        "\n",
        "`Regression` - <font color=\"darkcyan\"> _Your words here_\n",
        "\n",
        "<br>`Classification` - <font color=\"darkcyan\"> _Your words here_\n",
        "\n",
        "<br>`Baseline` - <font color=\"darkcyan\"> _Your words here_\n",
        "\n",
        "<br>`Predictive Model` - <font color=\"darkcyan\"> _Your words here_\n",
        "\n",
        "<br>`X` - <font color=\"darkcyan\"> _Your words here_\n",
        "\n",
        "<br>`y` - <font color=\"darkcyan\"> _Your words here_\n",
        "\n",
        "<br>`Linear Regression` - <font color=\"darkcyan\"> _Your words here_\n",
        "\n",
        "<br>`Feature Matrix` - <font color=\"darkcyan\"> _Your words here_\n",
        "\n",
        "<br>`Mean Absoulte Error` - <font color=\"darkcyan\"> _Your words here_\n",
        "\n",
        "<br>`Coeffiecients` and `coef_` - <font color=\"darkcyan\"> _Your words here_\n",
        "\n",
        "<br>`Intercept` and `intercept_` - <font color=\"darkcyan\"> _Your words here_\n",
        "\n",
        "<br>`Absolute Value` - <font color=\"darkcyan\"> _Your words here_\n"
      ]
    },
    {
      "cell_type": "code",
      "metadata": {
        "colab": {
          "base_uri": "https://localhost:8080/",
          "height": 321
        },
        "id": "TMNFB1C2dFfw",
        "outputId": "58d33116-239c-4c29-f082-28b57ae7e802"
      },
      "source": [
        "from IPython.display import YouTubeVideo\n",
        "YouTubeVideo('PaFPbb66DxQ')\n",
        "\n",
        "# https://www.youtube.com/watch?v=PaFPbb66DxQ&list=PLblh5JKOoLUIzaEkCLIUxQFjPIlapw8nU&index=1"
      ],
      "execution_count": null,
      "outputs": [
        {
          "output_type": "execute_result",
          "data": {
            "text/html": [
              "\n",
              "        <iframe\n",
              "            width=\"400\"\n",
              "            height=\"300\"\n",
              "            src=\"https://www.youtube.com/embed/PaFPbb66DxQ\"\n",
              "            frameborder=\"0\"\n",
              "            allowfullscreen\n",
              "        ></iframe>\n",
              "        "
            ],
            "text/plain": [
              "<IPython.lib.display.YouTubeVideo at 0x7fdaa57b3278>"
            ],
            "image/jpeg": "[encoded data removed]"
          },
          "metadata": {
            "tags": []
          },
          "execution_count": 3
        }
      ]
    },
    {
      "cell_type": "code",
      "metadata": {
        "colab": {
          "base_uri": "https://localhost:8080/",
          "height": 321
        },
        "id": "ZEikZycFo_J6",
        "outputId": "859f5712-f929-4e62-a2f9-39cc386df553"
      },
      "source": [
        "from IPython.display import YouTubeVideo\n",
        "YouTubeVideo('nk2CQITm_eo')\n",
        "\n",
        "# https://www.youtube.com/watch?v=nk2CQITm_eo&list=PLblh5JKOoLUIzaEkCLIUxQFjPIlapw8nU&index=2&t=843s"
      ],
      "execution_count": null,
      "outputs": [
        {
          "output_type": "execute_result",
          "data": {
            "text/html": [
              "\n",
              "        <iframe\n",
              "            width=\"400\"\n",
              "            height=\"300\"\n",
              "            src=\"https://www.youtube.com/embed/nk2CQITm_eo\"\n",
              "            frameborder=\"0\"\n",
              "            allowfullscreen\n",
              "        ></iframe>\n",
              "        "
            ],
            "text/plain": [
              "<IPython.lib.display.YouTubeVideo at 0x7fdaa4f83470>"
            ],
            "image/jpeg": "[encoded data removed]"
          },
          "metadata": {
            "tags": []
          },
          "execution_count": 4
        }
      ]
    },
    {
      "cell_type": "markdown",
      "metadata": {
        "id": "qmuFxaLNxzWd"
      },
      "source": [
        "Good article to read to understand how everything fits together\n",
        "[Linear Regression in Python](https://realpython.com/linear-regression-in-python/)"
      ]
    },
    {
      "cell_type": "markdown",
      "metadata": {
        "id": "dcEy1S_j2cNu"
      },
      "source": [
        "Understanding Classification in Python, check out this article [Classification in Python](https://stackabuse.com/classification-in-python-with-scikit-learn-and-pandas/)"
      ]
    },
    {
      "cell_type": "markdown",
      "metadata": {
        "id": "cRtAwLqO6lez"
      },
      "source": [
        "# Regression 2"
      ]
    },
    {
      "cell_type": "markdown",
      "metadata": {
        "id": "oXiCds-i6smc"
      },
      "source": [
        "Words to Know from Regression 2 Lecture/Assignment:\n",
        "<br>_Make sure to cite your sources for each word_\n",
        "\n",
        "`Root Mean Squared Error (RMSE)` - <font color=\"darkcyan\"> _Your words here_\n",
        "\n",
        "<br>`R^2 Score` - <font color=\"darkcyan\"> _Your words here_\n",
        "\n",
        "<br>`Train Test/Validation Split` - <font color=\"darkcyan\"> _Your words here_\n",
        "\n",
        "<br>`Ordinary Least Squares` - <font color=\"darkcyan\"> _Your words here_\n",
        "\n",
        "<br>`Sum of Squares` - <font color=\"darkcyan\"> _Your words here_\n",
        "\n",
        "<br>`Target Vector` - <font color=\"darkcyan\"> _Your words here_\n",
        "\n",
        "<br>`Feature Matrix (can you have multiples)?` - <font color=\"darkcyan\"> _Your words here_\n",
        "\n",
        "<br>`What is a mask? How do you use it with datetime data?` - <font color=\"darkcyan\"> _Your words here_\n",
        "\n",
        "<br>`How can you manually split data by a percent?` - <font color=\"darkcyan\"> _Your words here_"
      ]
    },
    {
      "cell_type": "code",
      "metadata": {
        "id": "6EfsO54IKcam"
      },
      "source": [
        "# Use this cell to demonstrate a Train/Test split \n",
        "# what Python library should you use?"
      ],
      "execution_count": null,
      "outputs": []
    },
    {
      "cell_type": "code",
      "metadata": {
        "id": "e5SABGucKKC2"
      },
      "source": [
        "# Use this cell to explain a mask with code"
      ],
      "execution_count": null,
      "outputs": []
    },
    {
      "cell_type": "code",
      "metadata": {
        "id": "sepS0JUmKJyc"
      },
      "source": [
        "# Use this cell to manually split data by a percent"
      ],
      "execution_count": null,
      "outputs": []
    },
    {
      "cell_type": "markdown",
      "metadata": {
        "id": "QE5wqM8w7Pe7"
      },
      "source": [
        "[When to use MAE and RMSE](https://medium.com/human-in-a-machine-world/mae-and-rmse-which-metric-is-better-e60ac3bde13d)"
      ]
    },
    {
      "cell_type": "markdown",
      "metadata": {
        "id": "Y5jLQniVOh6e"
      },
      "source": [
        "# Ridge Regression"
      ]
    },
    {
      "cell_type": "markdown",
      "metadata": {
        "id": "4pcwXLljOzL6"
      },
      "source": [
        "Words to Know from Ridge Regression Lecture/Assignment:\n",
        "<br>_Make sure to cite your sources for each word_\n",
        "\n",
        "`RidgeRegression()` - <font color=\"darkcyan\"> _Your words here_\n",
        "\n",
        "<br>`Regularization` - <font color=\"darkcyan\"> _Your words here_\n",
        "\n",
        "<br>`Alpha` - <font color=\"darkcyan\"> _Your words here_\n",
        "\n",
        "<br>`Categorical Varaiable` - <font color=\"darkcyan\"> _Your words here_\n",
        "\n",
        "<br>`High Cardinality` - <font color=\"darkcyan\"> _Your words here_\n",
        "\n",
        "<br>`Ordinal Encoding` - <font color=\"darkcyan\"> _Your words here_\n",
        "\n",
        "<br>`One-Hot Encoding` - <font color=\"darkcyan\"> _Your words here_\n",
        "\n",
        "<br>`What is the difference between Ordinal and One-Hot encoding?` - <font color=\"darkcyan\"> _Your words here_\n",
        "\n",
        "<br>`In general what does it mean to encode something?` - <font color=\"darkcyan\"> _Your words here_\n",
        "\n",
        "<br>`Transformer` - <font color=\"darkcyan\"> _Your words here_\n",
        "\n",
        "<br>`Select K Best` - <font color=\"darkcyan\"> _Your words here_\n",
        "\n",
        "<br>`Dimentionality Reduction` - <font color=\"darkcyan\"> _Your words here_"
      ]
    },
    {
      "cell_type": "markdown",
      "metadata": {
        "id": "c4AhSLgLOixH"
      },
      "source": [
        "# Logistic Regression"
      ]
    },
    {
      "cell_type": "markdown",
      "metadata": {
        "id": "m3ZeEorJO0Em"
      },
      "source": [
        "Words to Know from Ridge Regression Lecture/Assignment:\n",
        "<br>_Make sure to cite your sources for each word_\n",
        "\n",
        "`LogisitcRegression()` - <font color=\"darkcyan\"> _Your words here_\n",
        "\n",
        "<br>`Sigmoid Function` - <font color=\"darkcyan\"> _Your words here_\n",
        "\n",
        "<br>`Majority Class` - <font color=\"darkcyan\"> _Your words here_\n",
        "\n",
        "<br>`Simple Imputer` - <font color=\"darkcyan\"> _Your words here_\n",
        "\n",
        "<br>`Pipelines` - <font color=\"darkcyan\"> _Your words here_\n",
        "\n",
        "<br>`Train/Validation/Test Split` - <font color=\"darkcyan\"> _Your words here_\n",
        "\n",
        "<br>`Accuracy` - <font color=\"darkcyan\"> _Your words here_\n",
        "\n"
      ]
    },
    {
      "cell_type": "markdown",
      "metadata": {
        "id": "wrvMv0I94vyO"
      },
      "source": [
        "# Know your imports and when to use them\n",
        "\n"
      ]
    },
    {
      "cell_type": "markdown",
      "metadata": {
        "id": "LWq2_QuO47qr"
      },
      "source": [
        "When would you use each import and what does the import statement look like in code?\n",
        "\n",
        "\n",
        "<br>`pandas` - <font color=\"darkcyan\"> _Your words here_\n",
        "\n",
        "<br>`Matplotlib` - <font color=\"darkcyan\"> _Your words here_\n",
        "\n",
        "<br>`Numpy` - <font color=\"darkcyan\"> _Your words here_\n",
        "\n",
        "<br>`Scikit-Learn` - <font color=\"darkcyan\"> _Your words here_\n",
        "\n",
        "<br>`category_encoders` - <font color=\"darkcyan\"> _Your words here_\n",
        "\n",
        "<br>`make_pipeline` - <font color=\"darkcyan\"> _Your words here_"
      ]
    }
  ]
}