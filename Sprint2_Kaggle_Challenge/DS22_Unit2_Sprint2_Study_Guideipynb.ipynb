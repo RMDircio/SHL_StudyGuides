{
  "nbformat": 4,
  "nbformat_minor": 0,
  "metadata": {
    "colab": {
      "name": "DS22_Unit2_Sprint2_Study_Guideipynb",
      "provenance": [],
      "authorship_tag": "ABX9TyMPEpe83sUfrWWt2zzZNUGM",
      "include_colab_link": true
    },
    "kernelspec": {
      "name": "python3",
      "display_name": "Python 3"
    }
  },
  "cells": [
    {
      "cell_type": "markdown",
      "metadata": {
        "id": "view-in-github",
        "colab_type": "text"
      },
      "source": [
        "<a href=\"https://colab.research.google.com/github/RMDircio/SHL_StudyGuides/blob/main/Sprint2_Kaggle_Challenge/DS22_Unit2_Sprint2_Study_Guideipynb.ipynb\" target=\"_parent\"><img src=\"https://colab.research.google.com/assets/colab-badge.svg\" alt=\"Open In Colab\"/></a>"
      ]
    },
    {
      "cell_type": "markdown",
      "metadata": {
        "id": "OunwwT_b5Bdl"
      },
      "source": [
        "# Decision Trees"
      ]
    },
    {
      "cell_type": "markdown",
      "metadata": {
        "id": "P2PZJ0cV5Qx_"
      },
      "source": [
        "Words to Know from Decision Trees 1 Lecture/Assignment:\n",
        "<br>_Make sure to cite your sources for each word_\n",
        "\n",
        "`Outliers` - <font color=\"darkcyan\"> _Your words here_\n",
        "\n",
        "<br>`Missing values` - <font color=\"darkcyan\"> _Your words here_\n",
        "\n",
        "<br>`Decision Tree` - <font color=\"darkcyan\"> _Your words here_\n",
        "\n",
        "<br>`DecisionTreeClassifier() - <font color=\"darkcyan\"> _Your words here_\n",
        "\n",
        "<br>`Feature Importance` - <font color=\"darkcyan\"> _Your words here_\n",
        "\n",
        "<br>`Non-Linear Relationships` - <font color=\"darkcyan\"> _Your words here_\n",
        "\n",
        "<br>`Non-Montonic Relationships - <font color=\"darkcyan\"> _Your words here_\n",
        "\n",
        "<br>`Feature Interactions` - <font color=\"darkcyan\"> _Your words here_"
      ]
    },
    {
      "cell_type": "markdown",
      "metadata": {
        "id": "i9To7CrM-W20"
      },
      "source": [
        "Imports to know:\n",
        "<br>\n",
        "When would you use each import and what does the import statement look like in code?\n",
        "\n",
        "<br>`pandas` - <font color=\"darkcyan\"> _Your words here_\n",
        "\n",
        "<br>`Matplotlib` - <font color=\"darkcyan\"> _Your words here_\n",
        "\n",
        "<br>`Numpy` - <font color=\"darkcyan\"> _Your words here_\n",
        "\n",
        "<br>`Scikit-Learn` - <font color=\"darkcyan\"> _Your words here_\n",
        "\n",
        "<br>`sklearn` - <font color=\"darkcyan\"> _Your words here_\n",
        "\n",
        "<br>`category_encoders` - <font color=\"darkcyan\"> _Your words here_\n",
        "\n",
        "<br>`make_pipeline` - <font color=\"darkcyan\"> _Your words here_\n",
        "\n",
        "<br>`train_test_split` - <font color=\"darkcyan\"> _Your words here_\n",
        "\n",
        "<br>`LogisticRegression` - <font color=\"darkcyan\"> _Your words here_\n",
        "\n",
        "<br>`OneHotEncoder` - <font color=\"darkcyan\"> _Your words here_\n",
        "\n",
        "<br>`SimpleImputer` - <font color=\"darkcyan\"> _Your words here_\n",
        "\n",
        "<br>`StandardScaler` - <font color=\"darkcyan\"> _Your words here_"
      ]
    },
    {
      "cell_type": "code",
      "metadata": {
        "id": "PdiC6g8n5yQ2"
      },
      "source": [
        ""
      ],
      "execution_count": null,
      "outputs": []
    }
  ]
}